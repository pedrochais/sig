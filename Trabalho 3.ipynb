{
 "cells": [
  {
   "attachments": {},
   "cell_type": "markdown",
   "metadata": {},
   "source": [
    "Importando babriogecas"
   ]
  },
  {
   "cell_type": "code",
   "execution_count": null,
   "metadata": {},
   "outputs": [],
   "source": [
    "import numpy as np\n",
    "import pandas as pd\n",
    "import folium\n",
    "import geopandas as gpd\n",
    "from sqlalchemy import create_engine\n",
    "from folium import plugins\n",
    "\n",
    "tiles_list = ['Stamen Terrain', 'Stamen Toner', 'Stamen Water Color', 'cartodbpositron', 'cartodbdark_matter']"
   ]
  },
  {
   "attachments": {},
   "cell_type": "markdown",
   "metadata": {},
   "source": [
    "Configuração do banco"
   ]
  },
  {
   "cell_type": "code",
   "execution_count": null,
   "metadata": {},
   "outputs": [],
   "source": [
    "host = \"localhost:5432\"\n",
    "database = \"db_sig\"\n",
    "user = 'postgres'\n",
    "password = 'pedro123'\n",
    "\n",
    "connection_string = f\"postgresql+psycopg2://{user}:{password}@{host}/{database}\"\n",
    "\n",
    "engine = create_engine(connection_string)"
   ]
  },
  {
   "attachments": {},
   "cell_type": "markdown",
   "metadata": {},
   "source": [
    "Questão 1 - Distinção de objetos por meio de seus atributos qualitativos (nominal ou ordinal) por meio de cores"
   ]
  },
  {
   "cell_type": "code",
   "execution_count": null,
   "metadata": {},
   "outputs": [],
   "source": [
    "sql = \"select * from macrorregioes_hidrograficas\"\n",
    "df_macro_hidro = gpd.read_postgis(sql, engine, geom_col='area')\n",
    "\n",
    "df_macro_hidro"
   ]
  },
  {
   "cell_type": "code",
   "execution_count": null,
   "metadata": {},
   "outputs": [],
   "source": [
    "\n",
    "\n",
    "map_macro_hidro = folium.Map([-15.783333, -47.866667],\n",
    "                 zoom_start=5,\n",
    "                 )\n",
    "\n",
    "gjson_macro_hidro = df_macro_hidro.__geo_interface__\n",
    "\n",
    "cor_macrorregioes = {\n",
    "    'AMAZÔNICA': 'purple',\n",
    "    'TOCANTINS-ARAGUAIA': 'blue',\n",
    "    'ATLÂNTICO NORDESTE OCIDENTAL': 'red',\n",
    "    'PARNAÍBA': 'yellow',\n",
    "    'ATLÂNTICO NORDESTE ORIENTAL': 'pink',\n",
    "    'SÃO FRANCISCO': 'orange',\n",
    "    'ATLÂNTICO LESTE': 'green',\n",
    "    'ATLÂNTICO SUDESTE': 'cyan',\n",
    "    'ATLÂNTICO SUL': 'magenta',\n",
    "    'URUGUAI': 'brown',\n",
    "    'PARANÁ': 'teal',\n",
    "    'PARAGUAI': 'navy',\n",
    "}\n",
    "\n",
    "style = lambda feature: {\n",
    "    'fillColor': cor_macrorregioes[feature['properties']['nm_macrorh']],\n",
    "    'color': 'black',\n",
    "    'fillOpacity': 0.5,\n",
    "    'weight': 1.0,\n",
    "}\n",
    "\n",
    "area_macro_hidro = folium.GeoJson(gjson_macro_hidro, name='Macrorregiões hidrográficas', style_function = style)\n",
    "\n",
    "map_macro_hidro.add_child(area_macro_hidro)\n",
    "\n",
    "# Adicionando controlador de camadas\n",
    "for tile in tiles_list:\n",
    "    folium.TileLayer(tile, overlay = False, control = True).add_to(map_macro_hidro)\n",
    "folium.LayerControl().add_to(map_macro_hidro)\n",
    "\n",
    "map_macro_hidro.save('macrorregioes_hidrograficas.html')\n",
    "map_macro_hidro\n"
   ]
  },
  {
   "attachments": {},
   "cell_type": "markdown",
   "metadata": {},
   "source": [
    "Questão 2 - Distinção de objetos por meio de seus atributos quantitativos (numéricos) por meio de escala de cores (pontos, linhas ou áreas) ou raios (pontos)"
   ]
  },
  {
   "cell_type": "code",
   "execution_count": null,
   "metadata": {},
   "outputs": [],
   "source": [
    "sql = \"select * from taxa_mortalidade\"\n",
    "df_taxa_mort = gpd.read_postgis(sql, engine)\n",
    "\n",
    "df_taxa_mort"
   ]
  },
  {
   "cell_type": "code",
   "execution_count": null,
   "metadata": {},
   "outputs": [],
   "source": [
    "map_taxa_mort = folium.Map([-15.783333, -47.866667],\n",
    "                  zoom_start=5,\n",
    "                  \n",
    "                   )\n",
    "\n",
    "gjson_taxa_mort = df_taxa_mort.__geo_interface__\n",
    "\n",
    "folium.Choropleth(\n",
    "    geo_data=gjson_taxa_mort,\n",
    "    name=\"choropleth\",\n",
    "    data=df_taxa_mort,\n",
    "    columns=[\"nome\", \"valor\"],\n",
    "    key_on=\"feature.properties.nome\",\n",
    "    fill_color=\"BuPu\",\n",
    "    fill_opacity=0.7,\n",
    "    line_opacity=0.5,\n",
    "    legend_name=\" Taxa de mortalidade atribuída a doenças cardiovasculares, câncer, diabetes ou doenças respiratórias crônicas por região geográfica-2014(%)\",  \n",
    ").add_to(map_taxa_mort)\n",
    "\n",
    "# Adicionando controlador de camadas\n",
    "for tile in tiles_list:\n",
    "    folium.TileLayer(tile, overlay = False, control = True).add_to(map_taxa_mort)\n",
    "folium.LayerControl().add_to(map_taxa_mort)\n",
    "\n",
    "map_taxa_mort.save('taxa_mortalidade.html')\n",
    "map_taxa_mort"
   ]
  },
  {
   "attachments": {},
   "cell_type": "markdown",
   "metadata": {},
   "source": [
    "Questão 3 - Agrupamento de recursos pontuais ou heatmaps;"
   ]
  },
  {
   "cell_type": "code",
   "execution_count": null,
   "metadata": {},
   "outputs": [],
   "source": [
    "sql = \"select * from bovinos\"\n",
    "df_bovinos = gpd.read_postgis(sql, engine, geom_col='geom')"
   ]
  },
  {
   "cell_type": "code",
   "execution_count": null,
   "metadata": {},
   "outputs": [],
   "source": [
    "map_bovinos = folium.Map([-15.783333, -47.866667],\n",
    "                  zoom_start=5\n",
    "                   )\n",
    "\n",
    "df_bovinos['latitude'] = df_bovinos['geom'].y.astype(float)\n",
    "df_bovinos['longitude'] = df_bovinos['geom'].x.astype(float)\n",
    "\n",
    "# Usa a quantidade de bovinos como peso\n",
    "heat_data1 = [[row['latitude'], row['longitude'], row['bovino2008']] for index, row in df_bovinos.iterrows()]\n",
    "\n",
    "plugins.HeatMap(heat_data1,\n",
    "        name = 'Quantidade de bovinos em 2008',\n",
    "        blur=5,\n",
    "        radius=6).add_to(map_bovinos)\n",
    "\n",
    "# Adicionando controlador de camadas\n",
    "for tile in tiles_list:\n",
    "    folium.TileLayer(tile, overlay = False, control = True).add_to(map_bovinos)\n",
    "folium.LayerControl().add_to(map_bovinos)\n",
    "\n",
    "map_bovinos.save('bovinos.html')\n",
    "map_bovinos"
   ]
  },
  {
   "attachments": {},
   "cell_type": "markdown",
   "metadata": {},
   "source": [
    "Questão 4 - Exibir pelo menos uma camada que seja resultado de junções espaciais."
   ]
  },
  {
   "cell_type": "code",
   "execution_count": null,
   "metadata": {},
   "outputs": [],
   "source": [
    "sql = \"\"\"\n",
    "select et.id as id_empresa,\n",
    "\t    et.geom as geom_empresa,\n",
    "\t\te.geom as geom_maranhao\n",
    "from empresas_transporte_carga_ferroviaria et, estados e \n",
    "where st_within(et.geom, e.geom) \n",
    "and e.nm_uf = 'Maranhão' \n",
    "\"\"\"\n",
    "df_empresas_transporte_ma = gpd.read_postgis(sql, engine, geom_col='geom_empresa')\n",
    "\n",
    "df_empresas_transporte_ma"
   ]
  }
 ],
 "metadata": {
  "kernelspec": {
   "display_name": "Python 3",
   "language": "python",
   "name": "python3"
  },
  "language_info": {
   "codemirror_mode": {
    "name": "ipython",
    "version": 3
   },
   "file_extension": ".py",
   "mimetype": "text/x-python",
   "name": "python",
   "nbconvert_exporter": "python",
   "pygments_lexer": "ipython3",
   "version": "3.11.2"
  },
  "orig_nbformat": 4
 },
 "nbformat": 4,
 "nbformat_minor": 2
}
